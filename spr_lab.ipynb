{
  "nbformat": 4,
  "nbformat_minor": 0,
  "metadata": {
    "colab": {
      "provenance": [],
      "authorship_tag": "ABX9TyPbRJyyng36fv/z+K5U+QoC",
      "include_colab_link": true
    },
    "kernelspec": {
      "name": "python3",
      "display_name": "Python 3"
    },
    "language_info": {
      "name": "python"
    }
  },
  "cells": [
    {
      "cell_type": "markdown",
      "metadata": {
        "id": "view-in-github",
        "colab_type": "text"
      },
      "source": [
        "<a href=\"https://colab.research.google.com/github/KiranVarghese25/Speech_Processing_Lab/blob/main/spr_lab.ipynb\" target=\"_parent\"><img src=\"https://colab.research.google.com/assets/colab-badge.svg\" alt=\"Open In Colab\"/></a>"
      ]
    },
    {
      "cell_type": "code",
      "source": [
        "import speech_recognition as sr\n",
        "\n",
        "# Initialize the recognizer\n",
        "recognizer = sr.Recognizer()\n",
        "\n",
        "# Path to pre-recorded audio file (replace this with your audio file)\n",
        "AUDIO_FILE = \"example_audio.wav\"\n",
        "\n",
        "def recognize_from_file():\n",
        "    try:\n",
        "        # Load the audio file\n",
        "        with sr.AudioFile('/content/harvard.wav') as source:\n",
        "            print(\"Loading audio file...\")\n",
        "            audio = recognizer.record(source)\n",
        "\n",
        "        # Recognize speech using Google Web Speech API\n",
        "        print(\"Recognizing...\")\n",
        "        text = recognizer.recognize_google(audio)\n",
        "        print(f\"Speech recognized: '{text}'\")\n",
        "        print(\"Speech successfully converted to text!\")\n",
        "    except sr.UnknownValueError:\n",
        "        print(\"Speech Recognition could not understand the audio, please try using a clearer file.\")\n",
        "    except sr.RequestError:\n",
        "        print(\"Could not request results from the service; please check your internet connection.\")\n",
        "\n",
        "if __name__ == \"__main__\":\n",
        "    recognize_from_file()\n"
      ],
      "metadata": {
        "colab": {
          "base_uri": "https://localhost:8080/"
        },
        "id": "mSHVYNxg4CK3",
        "outputId": "e1b4e8a8-61c9-480e-d6e6-9c2c00ff9442"
      },
      "execution_count": 13,
      "outputs": [
        {
          "output_type": "stream",
          "name": "stdout",
          "text": [
            "Loading audio file...\n",
            "Recognizing...\n",
            "Speech recognized: 'the stale smell of old beer lingers it takes heat to bring out the odor a cold dip restores health and zest a salt pickle taste fine with ham tacos al pastor are my favorite a zestful food is the hot cross bun'\n",
            "Speech successfully converted to text!\n"
          ]
        }
      ]
    },
    {
      "cell_type": "code",
      "source": [],
      "metadata": {
        "id": "kHmjZBV77Dww"
      },
      "execution_count": null,
      "outputs": []
    }
  ]
}